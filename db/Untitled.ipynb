{
 "cells": [
  {
   "cell_type": "code",
   "execution_count": 50,
   "metadata": {},
   "outputs": [],
   "source": [
    "import pandas as pd\n",
    "\n",
    "df = pd.read_csv('messier_wiki.csv')\n",
    "\n",
    "df['Annee'] = df['Annee'].astype('int')\n",
    "\n",
    "df['Mag'] = df['Mag'].str.replace(pat='\\\"', repl='')\n",
    "df['Mag'] = df['Mag'].str.replace(pat=',', repl='.')\n",
    "df['Mag'] = df['Mag'].astype('float')\n",
    "\n",
    "df['Distance'] = df['Distance'].str.replace(pat='\\\"', repl='')\n",
    "df['Distance'] = df['Distance'].str.replace(pat=' ', repl='')\n",
    "df['Distance'] = df['Distance'].str.replace(pat=',', repl='.')\n",
    "df['Distance'] = df['Distance'].str.replace(pat='a.l.', repl='')\n",
    "df['Distance'] = df['Distance'].str.replace(pat='?', repl='0.0')\n",
    "\n",
    "df['Distance'] = df['Distance'].astype('float')\n"
   ]
  },
  {
   "cell_type": "code",
   "execution_count": 69,
   "metadata": {},
   "outputs": [
    {
     "data": {
      "text/plain": [
       "'Telescope'"
      ]
     },
     "execution_count": 69,
     "metadata": {},
     "output_type": "execute_result"
    }
   ],
   "source": [
    "import random\n",
    "\"Oeil\" if random.randint(0, 1) == 1 else \"Telescope\""
   ]
  },
  {
   "cell_type": "code",
   "execution_count": null,
   "metadata": {},
   "outputs": [],
   "source": []
  },
  {
   "cell_type": "code",
   "execution_count": null,
   "metadata": {},
   "outputs": [],
   "source": []
  }
 ],
 "metadata": {
  "kernelspec": {
   "display_name": "Python 3",
   "language": "python",
   "name": "python3"
  },
  "language_info": {
   "codemirror_mode": {
    "name": "ipython",
    "version": 3
   },
   "file_extension": ".py",
   "mimetype": "text/x-python",
   "name": "python",
   "nbconvert_exporter": "python",
   "pygments_lexer": "ipython3",
   "version": "3.7.6"
  }
 },
 "nbformat": 4,
 "nbformat_minor": 4
}
